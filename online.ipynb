{
  "cells": [
    {
      "cell_type": "code",
      "source": [
        "from electronvolt import *"
      ],
      "outputs": [],
      "execution_count": null,
      "metadata": {
        "collapsed": true,
        "jupyter": {
          "source_hidden": false,
          "outputs_hidden": false
        },
        "nteract": {
          "transient": {
            "deleting": false
          }
        },
        "execution": {
          "shell.execute_reply": "2020-12-10T17:51:10.430Z",
          "iopub.status.busy": "2020-12-10T17:51:10.381Z",
          "iopub.execute_input": "2020-12-10T17:51:10.390Z",
          "iopub.status.idle": "2020-12-10T17:51:10.407Z"
        }
      }
    },
    {
      "cell_type": "code",
      "source": [
        "me * c**2"
      ],
      "outputs": [],
      "execution_count": null,
      "metadata": {
        "collapsed": true,
        "jupyter": {
          "source_hidden": false,
          "outputs_hidden": false
        },
        "nteract": {
          "transient": {
            "deleting": false
          }
        },
        "execution": {
          "iopub.status.busy": "2020-12-10T17:51:10.412Z",
          "iopub.execute_input": "2020-12-10T17:51:10.416Z",
          "iopub.status.idle": "2020-12-10T17:51:10.425Z",
          "shell.execute_reply": "2020-12-10T17:51:10.432Z"
        }
      }
    },
    {
      "cell_type": "code",
      "source": [],
      "outputs": [],
      "execution_count": null,
      "metadata": {
        "collapsed": true,
        "jupyter": {
          "source_hidden": false,
          "outputs_hidden": false
        },
        "nteract": {
          "transient": {
            "deleting": false
          }
        }
      }
    }
  ],
  "metadata": {
    "kernelspec": {
      "display_name": "Python 3",
      "language": "python",
      "name": "python3"
    },
    "language_info": {
      "name": "python",
      "version": "3.6.12",
      "mimetype": "text/x-python",
      "codemirror_mode": {
        "name": "ipython",
        "version": 3
      },
      "pygments_lexer": "ipython3",
      "nbconvert_exporter": "python",
      "file_extension": ".py"
    },
    "nteract": {
      "version": "0.27.0"
    }
  },
  "nbformat": 4,
  "nbformat_minor": 4
}