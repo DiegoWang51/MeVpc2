{
  "cells": [
    {
      "cell_type": "code",
      "source": [
        "from electronvolt import *"
      ],
      "outputs": [],
      "execution_count": null,
      "metadata": {
        "collapsed": true,
        "jupyter": {
          "source_hidden": false,
          "outputs_hidden": false
        },
        "nteract": {
          "transient": {
            "deleting": false
          }
        },
        "execution": {
          "shell.execute_reply": "2020-11-06T00:46:45.689Z",
          "iopub.status.busy": "2020-11-06T00:46:45.702Z",
          "iopub.execute_input": "2020-11-06T00:46:45.707Z",
          "iopub.status.idle": "2020-11-06T00:46:45.720Z"
        }
      }
    },
    {
      "cell_type": "code",
      "source": [
        "me * c**2"
      ],
      "outputs": [],
      "execution_count": null,
      "metadata": {
        "collapsed": true,
        "jupyter": {
          "source_hidden": false,
          "outputs_hidden": false
        },
        "nteract": {
          "transient": {
            "deleting": false
          }
        },
        "execution": {
          "iopub.status.busy": "2020-11-06T00:46:45.724Z",
          "iopub.execute_input": "2020-11-06T00:46:45.728Z",
          "iopub.status.idle": "2020-11-06T00:46:45.733Z",
          "shell.execute_reply": "2020-11-06T00:46:45.693Z"
        }
      }
    },
    {
      "cell_type": "code",
      "source": [],
      "outputs": [],
      "execution_count": null,
      "metadata": {
        "collapsed": true,
        "jupyter": {
          "source_hidden": false,
          "outputs_hidden": false
        },
        "nteract": {
          "transient": {
            "deleting": false
          }
        }
      }
    }
  ],
  "metadata": {
    "kernelspec": {
      "display_name": "Python 3",
      "language": "python",
      "name": "python3"
    },
    "language_info": {
      "name": "python",
      "version": "3.6.12",
      "mimetype": "text/x-python",
      "codemirror_mode": {
        "name": "ipython",
        "version": 3
      },
      "pygments_lexer": "ipython3",
      "nbconvert_exporter": "python",
      "file_extension": ".py"
    },
    "nteract": {
      "version": "0.27.0"
    }
  },
  "nbformat": 4,
  "nbformat_minor": 4
}